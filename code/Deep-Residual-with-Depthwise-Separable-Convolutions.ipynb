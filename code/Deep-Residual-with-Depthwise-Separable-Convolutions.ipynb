{
 "cells": [
  {
   "cell_type": "markdown",
   "source": [
    "# Deep Residual with Depthwise Separable Convolutions"
   ],
   "metadata": {
    "id": "icY9fFxAEVpM",
    "pycharm": {
     "name": "#%% md\n"
    }
   }
  },
  {
   "cell_type": "code",
   "execution_count": null,
   "metadata": {
    "id": "9vop6x48Xyh6",
    "pycharm": {
     "name": "#%%\n"
    }
   },
   "outputs": [],
   "source": [
    "import torch\n",
    "import torchvision\n",
    "import torchvision.transforms as transforms\n",
    "import matplotlib.pyplot as plt\n",
    "import numpy as np\n",
    "import torch.optim as optim\n",
    "from tqdm import tqdm\n",
    "import time\n",
    "import random\n",
    "random.seed(722)"
   ]
  },
  {
   "cell_type": "markdown",
   "metadata": {
    "id": "0gJR_FWPdSOu",
    "pycharm": {
     "name": "#%% md\n"
    }
   },
   "source": [
    "## Preprocess Data"
   ]
  },
  {
   "cell_type": "code",
   "execution_count": null,
   "metadata": {
    "id": "RetzuiLaUj0W",
    "pycharm": {
     "name": "#%%\n"
    }
   },
   "outputs": [],
   "source": [
    "def prepare_trainset(trainset):\n",
    "  output = []\n",
    "  for img_tensors, label in tqdm(trainset, desc=\"Processing\"):\n",
    "    data = []\n",
    "    for z in img_tensors:\n",
    "      d = []\n",
    "      for i in range(len(z)):\n",
    "        if i == 0 and i == len(z)-1:\n",
    "          nt = z[i]\n",
    "        elif i+1 < len(z):\n",
    "          # print(f'hello: {z[i]}')\n",
    "          nt = torch.stack([z[i-1], z[i], z[i+1]])\n",
    "          nt = torch.mean(nt, dim=0)\n",
    "        else:\n",
    "          #print(z[i])\n",
    "          nt = z[i]\n",
    "        d.append(nt)\n",
    "      d = torch.stack(d)\n",
    "      data.append(d)\n",
    "    data = torch.stack(data)\n",
    "    output.append((data, label))\n",
    "  return output\n",
    "# print(data[2][31])"
   ]
  },
  {
   "cell_type": "markdown",
   "metadata": {
    "id": "tJ5MBpn1ZMaS",
    "pycharm": {
     "name": "#%% md\n"
    }
   },
   "source": [
    "### Data preparation"
   ]
  },
  {
   "cell_type": "code",
   "execution_count": null,
   "metadata": {
    "colab": {
     "base_uri": "https://localhost:8080/"
    },
    "id": "9Zv-ocY2Y5wo",
    "outputId": "1a61abcc-6cc2-49e8-93ae-043c1f01449b",
    "pycharm": {
     "name": "#%%\n"
    }
   },
   "outputs": [
    {
     "output_type": "stream",
     "name": "stdout",
     "text": [
      "Files already downloaded and verified\n"
     ]
    },
    {
     "output_type": "stream",
     "name": "stderr",
     "text": [
      "Processing: 100%|██████████| 50000/50000 [03:35<00:00, 232.28it/s]\n"
     ]
    },
    {
     "output_type": "stream",
     "name": "stdout",
     "text": [
      "Files already downloaded and verified\n"
     ]
    },
    {
     "output_type": "stream",
     "name": "stderr",
     "text": [
      "Processing: 100%|██████████| 10000/10000 [00:43<00:00, 231.15it/s]\n"
     ]
    }
   ],
   "source": [
    "transform = transforms.Compose(\n",
    "    [transforms.ToTensor(),\n",
    "     transforms.Normalize((0.5, 0.5, 0.5), (0.5, 0.5, 0.5))])\n",
    "\n",
    "# self.transform = transforms.Compose([transforms.Resize(256),\n",
    "#                                      transforms.CenterCrop(224),\n",
    "#                                      transforms.ToTensor(),\n",
    "#                                      transforms.Normalize((0.5, 0.5, 0.5), (0.5, 0.5, 0.5))\n",
    "#                                      ])\n",
    "\n",
    "batch_size = 32\n",
    "\n",
    "trainset = torchvision.datasets.CIFAR10(root='./data', train=True,\n",
    "                                        download=True, transform=transform)\n",
    "trainset = prepare_trainset(trainset)\n",
    "trainloader = torch.utils.data.DataLoader(trainset, batch_size=batch_size,\n",
    "                                          shuffle=True, num_workers=2)\n",
    "\n",
    "testset = torchvision.datasets.CIFAR10(root='./data', train=False,\n",
    "                                       download=True, transform=transform)\n",
    "testset = prepare_trainset(testset)\n",
    "testloader = torch.utils.data.DataLoader(testset, batch_size=batch_size,\n",
    "                                         shuffle=False, num_workers=2)\n",
    "\n",
    "classes = ('plane', 'car', 'bird', 'cat',\n",
    "           'deer', 'dog', 'frog', 'horse', 'ship', 'truck')"
   ]
  },
  {
   "cell_type": "code",
   "execution_count": null,
   "metadata": {
    "id": "A-B-BSu7Y7sQ",
    "pycharm": {
     "name": "#%%\n"
    }
   },
   "outputs": [],
   "source": [
    "import math\n",
    "import torch.nn as nn\n",
    "import torch.nn.functional as F\n",
    "import torch.utils.model_zoo as model_zoo\n",
    "from torch.nn import init\n",
    "import torch\n",
    "\n",
    "__all__ = ['xception']\n",
    "\n",
    "model_urls = {\n",
    "    'xception':'http://data.lip6.fr/cadene/pretrainedmodels/xception-43020ad28.pth'\n",
    "}\n",
    "\n",
    "\n",
    "class SeparableConv2d(nn.Module):\n",
    "    def __init__(self,in_channels,out_channels,kernel_size=1,stride=1,padding=0,dilation=1,bias=False):\n",
    "        super(SeparableConv2d,self).__init__()\n",
    "\n",
    "        self.conv1 = nn.Conv2d(in_channels,in_channels,kernel_size,stride,padding,dilation,groups=in_channels,bias=bias)\n",
    "        self.pointwise = nn.Conv2d(in_channels,out_channels,1,1,0,1,1,bias=bias)\n",
    "\n",
    "    def forward(self,x):\n",
    "        x = self.conv1(x)\n",
    "        x = self.pointwise(x)\n",
    "        return x\n",
    "\n",
    "\n",
    "class Block(nn.Module):\n",
    "    def __init__(self,in_filters,out_filters,reps,strides=1,start_with_relu=True,grow_first=True):\n",
    "        super(Block, self).__init__()\n",
    "\n",
    "        if out_filters != in_filters or strides!=1:\n",
    "            self.skip = nn.Conv2d(in_filters,out_filters,1,stride=strides, bias=False)\n",
    "            self.skipbn = nn.BatchNorm2d(out_filters)\n",
    "        else:\n",
    "            self.skip=None\n",
    "\n",
    "        self.relu = nn.ReLU(inplace=True)\n",
    "        rep=[]\n",
    "\n",
    "        filters=in_filters\n",
    "        if grow_first:\n",
    "            rep.append(self.relu)\n",
    "            rep.append(SeparableConv2d(in_filters,out_filters,3,stride=1,padding=1,bias=False))\n",
    "            rep.append(nn.BatchNorm2d(out_filters))\n",
    "            filters = out_filters\n",
    "\n",
    "        for i in range(reps-1):\n",
    "            rep.append(self.relu)\n",
    "            rep.append(SeparableConv2d(filters,filters,3,stride=1,padding=1,bias=False))\n",
    "            rep.append(nn.BatchNorm2d(filters))\n",
    "\n",
    "        if not grow_first:\n",
    "            rep.append(self.relu)\n",
    "            rep.append(SeparableConv2d(in_filters,out_filters,3,stride=1,padding=1,bias=False))\n",
    "            rep.append(nn.BatchNorm2d(out_filters))\n",
    "\n",
    "        if not start_with_relu:\n",
    "            rep = rep[1:]\n",
    "        else:\n",
    "            rep[0] = nn.ReLU(inplace=False)\n",
    "\n",
    "        if strides != 1:\n",
    "            rep.append(nn.MaxPool2d(3,strides,1))\n",
    "        self.rep = nn.Sequential(*rep)\n",
    "\n",
    "    def forward(self,inp):\n",
    "        x = self.rep(inp)\n",
    "\n",
    "        if self.skip is not None:\n",
    "            skip = self.skip(inp)\n",
    "            skip = self.skipbn(skip)\n",
    "        else:\n",
    "            skip = inp\n",
    "\n",
    "        x+=skip\n",
    "        return x\n",
    "\n",
    "\n",
    "\n",
    "class Xception(nn.Module):\n",
    "    \"\"\"\n",
    "    Xception optimized for the ImageNet dataset, as specified in\n",
    "    https://arxiv.org/pdf/1610.02357.pdf\n",
    "    \"\"\"\n",
    "    def __init__(self, num_classes=10):\n",
    "        \"\"\" Constructor\n",
    "        Args:\n",
    "            num_classes: number of classes\n",
    "        \"\"\"\n",
    "        super(Xception, self).__init__()\n",
    "\n",
    "\n",
    "        self.num_classes = num_classes\n",
    "\n",
    "        self.conv1 = nn.Conv2d(3, 32, 3,2, 0, bias=False)\n",
    "        self.bn1 = nn.BatchNorm2d(32)\n",
    "        self.relu = nn.ReLU(inplace=True)\n",
    "\n",
    "        self.conv2 = nn.Conv2d(32,64,3,bias=False)\n",
    "        self.bn2 = nn.BatchNorm2d(64)\n",
    "\n",
    "        # self.downsample = nn.Conv2d()\n",
    "        #do relu here\n",
    "\n",
    "        self.block1=Block(64,128,2,2,start_with_relu=False,grow_first=True)\n",
    "        self.block2=Block(128,256,2,2,start_with_relu=True,grow_first=True)\n",
    "        self.block3=Block(256,512,2,2,start_with_relu=True,grow_first=True)\n",
    "        # block with 3 filter\n",
    "        self.block4=Block(512,512,3,1,start_with_relu=True,grow_first=True)\n",
    "        self.block5=Block(512,512,3,1,start_with_relu=True,grow_first=True)\n",
    "        self.block6=Block(512,512,3,1,start_with_relu=True,grow_first=True)\n",
    "        self.block7=Block(512,512,3,1,start_with_relu=True,grow_first=True)\n",
    "\n",
    "        #self.block8=Block(256,256,3,1,start_with_relu=True,grow_first=True)\n",
    "        #self.block9=Block(256,256,3,1,start_with_relu=True,grow_first=True)\n",
    "        #self.block10=Block(256,256,3,1,start_with_relu=True,grow_first=True)\n",
    "        #self.block11=Block(256,256,3,1,start_with_relu=True,grow_first=True)\n",
    "\n",
    "        # Adding conv layer in mid block\n",
    "        self.conv_m = nn.Conv2d(512, 512, 1, 1,bias=False)\n",
    "        self.bn_m = nn.BatchNorm2d(512)\n",
    "        self.conv_m2 = nn.Conv2d(512,512,1,bias=False)\n",
    "        # self.bn_m2 = nn.BatchNorm2d(512)\n",
    "\n",
    "        self.block12=Block(512,768,3,2,start_with_relu=True,grow_first=False)\n",
    "\n",
    "        self.conv3 = SeparableConv2d(768, 896,3,1,1)\n",
    "        self.bn3 = nn.BatchNorm2d(896)\n",
    "\n",
    "        #do relu here\n",
    "        self.conv4 = SeparableConv2d(896,1024,3,1,1)\n",
    "        self.bn4 = nn.BatchNorm2d(1024)\n",
    "\n",
    "        self.fc = nn.Linear(1024, num_classes)\n",
    "\n",
    "\n",
    "\n",
    "        #------- init weights --------\n",
    "        for m in self.modules():\n",
    "            if isinstance(m, nn.Conv2d):\n",
    "                n = m.kernel_size[0] * m.kernel_size[1] * m.out_channels\n",
    "                m.weight.data.normal_(0, math.sqrt(2. / n))\n",
    "            elif isinstance(m, nn.BatchNorm2d):\n",
    "                m.weight.data.fill_(1)\n",
    "                m.bias.data.zero_()\n",
    "        #-----------------------------\n",
    "\n",
    "\n",
    "\n",
    "\n",
    "\n",
    "    def forward(self, x):\n",
    "        x = self.conv1(x)\n",
    "        x = self.bn1(x)\n",
    "        x = self.relu(x)\n",
    "\n",
    "        x = self.conv2(x)\n",
    "        x = self.bn2(x)\n",
    "        x = self.relu(x)\n",
    "\n",
    "        x = self.block1(x)\n",
    "        x = self.block2(x)\n",
    "        x = self.block3(x)\n",
    "\n",
    "        residual = x\n",
    "        x = self.block4(x)\n",
    "        x += residual\n",
    "        x = self.relu(x)\n",
    "        residual = x\n",
    "        x = self.block5(x)\n",
    "        x += residual\n",
    "        x = self.relu(x)\n",
    "        x = self.block6(x)\n",
    "        residual = x\n",
    "        x = self.block7(x)\n",
    "        x += residual\n",
    "        x = self.relu(x)\n",
    "        # Start of Residual Block\n",
    "        residual = x\n",
    "        #x = self.block8(x)\n",
    "        #x = self.block9(x)\n",
    "        #x = self.block10(x)\n",
    "        #x = self.block11(x)\n",
    "        x = self.conv_m(x)\n",
    "        x = self.bn_m(x)\n",
    "        x += residual\n",
    "        residual = x\n",
    "        x = self.relu(x)\n",
    "        x = self.conv_m2(x)\n",
    "        x = self.bn_m(x)\n",
    "        x += residual\n",
    "        x = self.relu(x)\n",
    "\n",
    "        x = self.block12(x)\n",
    "\n",
    "        x = self.conv3(x)\n",
    "        x = self.bn3(x)\n",
    "        x = self.relu(x)\n",
    "\n",
    "        x = self.conv4(x)\n",
    "        x = self.bn4(x)\n",
    "        x = self.relu(x)\n",
    "\n",
    "        x = F.adaptive_avg_pool2d(x, (1, 1))\n",
    "        x = x.view(x.size(0), -1)\n",
    "        x = self.fc(x)\n",
    "\n",
    "        return x\n",
    "\n",
    "\n",
    "def xception(pretrained=False,**kwargs):\n",
    "    \"\"\"\n",
    "    Construct Xception.\n",
    "    \"\"\"\n",
    "\n",
    "    model = Xception(**kwargs)\n",
    "    if pretrained:\n",
    "        model.load_state_dict(model_zoo.load_url(model_urls['xception']))\n",
    "    return model"
   ]
  },
  {
   "cell_type": "markdown",
   "metadata": {
    "id": "3XuPGlFYZdUj",
    "pycharm": {
     "name": "#%% md\n"
    }
   },
   "source": [
    "### Train the network\n"
   ]
  },
  {
   "cell_type": "code",
   "execution_count": null,
   "metadata": {
    "id": "PqXMcJvJZc87",
    "pycharm": {
     "name": "#%%\n"
    }
   },
   "outputs": [],
   "source": [
    "\n",
    "def train(model, trainloader, epoch, optimizer, criterion, device):\n",
    "    time_logs = []\n",
    "    loss_logs = []\n",
    "    mem_usage = []\n",
    "    start_time = time.time()\n",
    "\n",
    "    #for epoch in range(epochs):  # loop over the dataset multiple times\n",
    "    #time_logs[epoch] = []\n",
    "    #loss_logs[epoch] = []\n",
    "\n",
    "    running_loss = 0.0\n",
    "    time_intv = 1#len(trainloader) / 5\n",
    "    for i, data in enumerate(tqdm(trainloader)):\n",
    "        # get the inputs; data is a list of [inputs, labels]\n",
    "        inputs, labels = data[0].to(device), data[1].to(device)\n",
    "\n",
    "        # zero the parameter gradients\n",
    "        optimizer.zero_grad()\n",
    "\n",
    "        # forward + backward + optimize\n",
    "        outputs = model(inputs)\n",
    "        loss = criterion(outputs, labels)\n",
    "        loss.backward()\n",
    "        optimizer.step()\n",
    "\n",
    "        # print statistics\n",
    "        running_loss += loss.item()\n",
    "        #if (i+1) % time_intv == 0:    # print every 2000 mini-batches\n",
    "        current_loss = loss.item()\n",
    "        #tqdm.write(f'\\n[{epoch + 1}, {(i + 1):5d}] loss: {current_loss:.3f}')\n",
    "        loss_logs.append(current_loss)\n",
    "        time_logs.append(time.time() - start_time)\n",
    "        mem_usage.append(torch.cuda.memory_allocated())\n",
    "        #running_loss = 0.0\n",
    "    tqdm.write(f'\\n[{epoch + 1}, {(i + 1):5d}] loss: {running_loss/len(trainloader):.3f}')\n",
    "    return model, time_logs, loss_logs, mem_usage\n"
   ]
  },
  {
   "cell_type": "markdown",
   "metadata": {
    "id": "6xs0aRbOaO2B",
    "pycharm": {
     "name": "#%% md\n"
    }
   },
   "source": [
    "### Evaluation"
   ]
  },
  {
   "cell_type": "code",
   "execution_count": null,
   "metadata": {
    "id": "45KzttvDaN3g",
    "pycharm": {
     "name": "#%%\n"
    }
   },
   "outputs": [],
   "source": [
    "def evaluate(model, testloader, criterion, device):\n",
    "    time_logs = 0.0\n",
    "    loss_logs = 0.0\n",
    "    start_time = time.time()\n",
    "    total_loss = 0.0\n",
    "    correct = 0\n",
    "    total = 0\n",
    "    # since we're not training, we don't need to calculate the gradients for our outputs\n",
    "    with torch.no_grad():\n",
    "        for data in tqdm(testloader):\n",
    "            images, labels = data[0].to(device), data[1].to(device)\n",
    "            # calculate outputs by running images through the network\n",
    "            outputs = model(images)\n",
    "            loss = criterion(outputs, labels)\n",
    "            total_loss += loss.item()\n",
    "            # the class with the highest energy is what we choose as prediction\n",
    "            _, predicted = torch.max(outputs.data, 1)\n",
    "            total += labels.size(0)\n",
    "            correct += (predicted == labels).sum().item()\n",
    "    loss_logs = total_loss / len(testloader)\n",
    "    time_logs = time.time() - start_time\n",
    "    return time_logs, loss_logs, 100 * (correct / total)\n"
   ]
  },
  {
   "cell_type": "markdown",
   "metadata": {
    "id": "aCbwj6MmR87x",
    "pycharm": {
     "name": "#%% md\n"
    }
   },
   "source": [
    "### Training and Validate the model"
   ]
  },
  {
   "cell_type": "code",
   "source": [
    "torch.cuda.memory_allocated()"
   ],
   "metadata": {
    "colab": {
     "base_uri": "https://localhost:8080/"
    },
    "id": "qpaDAPG6gTib",
    "outputId": "e8e639d5-91fc-4279-ce4e-91a306df614f",
    "pycharm": {
     "name": "#%%\n"
    }
   },
   "execution_count": null,
   "outputs": [
    {
     "output_type": "execute_result",
     "data": {
      "text/plain": [
       "0"
      ]
     },
     "metadata": {},
     "execution_count": 7
    }
   ]
  },
  {
   "cell_type": "code",
   "execution_count": null,
   "metadata": {
    "colab": {
     "base_uri": "https://localhost:8080/"
    },
    "id": "_JqyAcogETej",
    "outputId": "c237a712-c111-4f37-df3c-435a8b1961ba",
    "pycharm": {
     "name": "#%%\n"
    }
   },
   "outputs": [
    {
     "output_type": "stream",
     "name": "stdout",
     "text": [
      "Num of total params: 7428074\n",
      "Num of trainable params: 7428074\n"
     ]
    },
    {
     "output_type": "stream",
     "name": "stderr",
     "text": [
      "100%|██████████| 1563/1563 [00:41<00:00, 37.92it/s]\n"
     ]
    },
    {
     "output_type": "stream",
     "name": "stdout",
     "text": [
      "\n",
      "[1,  1563] loss: 1.781\n"
     ]
    },
    {
     "output_type": "stream",
     "name": "stderr",
     "text": [
      "100%|██████████| 313/313 [00:03<00:00, 92.56it/s]\n",
      "100%|██████████| 1563/1563 [00:41<00:00, 37.77it/s]\n"
     ]
    },
    {
     "output_type": "stream",
     "name": "stdout",
     "text": [
      "\n",
      "[2,  1563] loss: 1.427\n"
     ]
    },
    {
     "output_type": "stream",
     "name": "stderr",
     "text": [
      "100%|██████████| 313/313 [00:04<00:00, 77.41it/s]\n",
      "100%|██████████| 1563/1563 [00:42<00:00, 37.11it/s]\n"
     ]
    },
    {
     "output_type": "stream",
     "name": "stdout",
     "text": [
      "\n",
      "[3,  1563] loss: 1.264\n"
     ]
    },
    {
     "output_type": "stream",
     "name": "stderr",
     "text": [
      "100%|██████████| 313/313 [00:04<00:00, 76.66it/s]\n",
      "100%|██████████| 1563/1563 [00:42<00:00, 36.98it/s]\n"
     ]
    },
    {
     "output_type": "stream",
     "name": "stdout",
     "text": [
      "\n",
      "[4,  1563] loss: 1.139\n"
     ]
    },
    {
     "output_type": "stream",
     "name": "stderr",
     "text": [
      "100%|██████████| 313/313 [00:03<00:00, 96.99it/s] \n",
      "100%|██████████| 1563/1563 [00:41<00:00, 37.22it/s]\n"
     ]
    },
    {
     "output_type": "stream",
     "name": "stdout",
     "text": [
      "\n",
      "[5,  1563] loss: 1.024\n"
     ]
    },
    {
     "output_type": "stream",
     "name": "stderr",
     "text": [
      "100%|██████████| 313/313 [00:04<00:00, 76.25it/s]\n",
      "100%|██████████| 1563/1563 [00:42<00:00, 36.81it/s]\n"
     ]
    },
    {
     "output_type": "stream",
     "name": "stdout",
     "text": [
      "\n",
      "[6,  1563] loss: 0.916\n"
     ]
    },
    {
     "output_type": "stream",
     "name": "stderr",
     "text": [
      "100%|██████████| 313/313 [00:03<00:00, 83.46it/s]\n",
      "100%|██████████| 1563/1563 [00:43<00:00, 36.29it/s]\n"
     ]
    },
    {
     "output_type": "stream",
     "name": "stdout",
     "text": [
      "\n",
      "[7,  1563] loss: 0.811\n"
     ]
    },
    {
     "output_type": "stream",
     "name": "stderr",
     "text": [
      "100%|██████████| 313/313 [00:03<00:00, 92.04it/s]\n",
      "100%|██████████| 1563/1563 [00:42<00:00, 36.43it/s]\n"
     ]
    },
    {
     "output_type": "stream",
     "name": "stdout",
     "text": [
      "\n",
      "[8,  1563] loss: 0.716\n"
     ]
    },
    {
     "output_type": "stream",
     "name": "stderr",
     "text": [
      "100%|██████████| 313/313 [00:04<00:00, 78.07it/s]\n",
      "100%|██████████| 1563/1563 [00:41<00:00, 37.60it/s]\n"
     ]
    },
    {
     "output_type": "stream",
     "name": "stdout",
     "text": [
      "\n",
      "[9,  1563] loss: 0.627\n"
     ]
    },
    {
     "output_type": "stream",
     "name": "stderr",
     "text": [
      "100%|██████████| 313/313 [00:03<00:00, 84.70it/s]\n",
      "100%|██████████| 1563/1563 [00:43<00:00, 36.25it/s]\n"
     ]
    },
    {
     "output_type": "stream",
     "name": "stdout",
     "text": [
      "\n",
      "[10,  1563] loss: 0.541\n"
     ]
    },
    {
     "output_type": "stream",
     "name": "stderr",
     "text": [
      "100%|██████████| 313/313 [00:03<00:00, 94.23it/s]\n"
     ]
    }
   ],
   "source": [
    "device = torch.device('cuda:0' if torch.cuda.is_available() else 'cpu')\n",
    "model = xception()\n",
    "model.to(device)\n",
    "criterion = nn.CrossEntropyLoss()\n",
    "optimizer = optim.Adam(model.parameters(), lr=2e-5) #optim.SGD(model.parameters(), lr=0.001, momentum=0.9)\n",
    "print(f'Num of total params: {sum(p.numel() for p in model.parameters())}')\n",
    "print(f'Num of trainable params: {sum(p.numel() for p in model.parameters() if p.requires_grad)}')\n",
    "\n",
    "train_time_logs = {}\n",
    "train_loss_logs = {}\n",
    "train_mem_usage = {}\n",
    "\n",
    "test_time_logs = {}\n",
    "test_loss_logs = {}\n",
    "test_acc_logs = {}\n",
    "# Train the model\n",
    "num_epochs = 10\n",
    "for epoch in range(num_epochs):\n",
    "    model, time_logs, loss_logs, mem_usage = train(model, trainloader, epoch, optimizer, criterion, device)\n",
    "    train_time_logs[epoch] = time_logs\n",
    "    train_loss_logs[epoch] = loss_logs\n",
    "    train_mem_usage[epoch] = mem_usage\n",
    "    time_logs, loss_logs, accuracy = evaluate(model, testloader, criterion, device)\n",
    "    test_time_logs[epoch] = time_logs\n",
    "    test_loss_logs[epoch] = loss_logs\n",
    "    test_acc_logs[epoch] = accuracy\n",
    "    #print('Epoch {}/{}: Train Loss = {:.4f}, Accuracy = {:.4f}, Dev Loss = {:.4f}, Dev Accuracy = {:.4f}'.format(epoch+1, num_epochs, train_loss, acc, dev_loss, accuracy))\n",
    "    # test_prediction = evaluate(model, test_dataset, device, epoch, test_data_file)"
   ]
  },
  {
   "cell_type": "code",
   "source": [
    "print(test_time_logs)\n",
    "print(test_loss_logs)\n",
    "print(test_acc_logs)"
   ],
   "metadata": {
    "colab": {
     "base_uri": "https://localhost:8080/"
    },
    "id": "a8GPGb2uoqHX",
    "outputId": "4e0f3cb5-989a-4122-a1cf-a0fe07f686bf",
    "pycharm": {
     "name": "#%%\n"
    }
   },
   "execution_count": null,
   "outputs": [
    {
     "output_type": "stream",
     "name": "stdout",
     "text": [
      "{0: 3.3914635181427, 1: 4.0495500564575195, 2: 4.089480400085449, 3: 3.2340753078460693, 4: 4.113281726837158, 5: 3.761772871017456, 6: 3.4084720611572266, 7: 4.0168633460998535, 8: 3.702141761779785, 9: 3.331998825073242}\n",
      "{0: 1.54989404762134, 1: 1.422701166079829, 2: 1.3639029235885547, 3: 1.3398487775470502, 4: 1.3383486427057285, 5: 1.3533265733490356, 6: 1.3822588998669634, 7: 1.4369173276538667, 8: 1.4790992361668962, 9: 1.5321042989008724}\n",
      "{0: 44.48, 1: 49.46, 2: 51.459999999999994, 3: 52.75, 4: 53.32, 5: 53.94, 6: 53.59, 7: 53.09, 8: 52.87, 9: 52.800000000000004}\n"
     ]
    }
   ]
  },
  {
   "cell_type": "code",
   "execution_count": null,
   "metadata": {
    "id": "eDQ3pMXGcj97",
    "pycharm": {
     "name": "#%%\n"
    }
   },
   "outputs": [],
   "source": [
    "# print(train_time_logs)\n",
    "# print(train_loss_logs)\n",
    "# print('test stats')\n",
    "# print(test_time_logs)\n",
    "# print(test_loss_logs)\n",
    "# print(test_acc_logs)\n",
    "import json\n",
    "\n",
    "js_data = {\n",
    "    'train_time_logs': train_time_logs,\n",
    "    'train_loss_logs': train_loss_logs,\n",
    "    'train_mem_usage': train_mem_usage,\n",
    "    'test_time_logs': test_time_logs,\n",
    "    'test_loss_logs': test_loss_logs,\n",
    "    'test_acc_logs': test_acc_logs\n",
    "}\n",
    "\n",
    "with open('optimized_stats.processed.json', 'w') as f:\n",
    "  json.dump(js_data, f, ensure_ascii=False)"
   ]
  },
  {
   "cell_type": "code",
   "execution_count": null,
   "metadata": {
    "id": "7LwvC-xfPxxi",
    "pycharm": {
     "name": "#%%\n"
    }
   },
   "outputs": [],
   "source": []
  }
 ],
 "metadata": {
  "accelerator": "GPU",
  "colab": {
   "gpuType": "T4",
   "provenance": []
  },
  "kernelspec": {
   "display_name": "Python 3",
   "name": "python3"
  },
  "language_info": {
   "name": "python"
  }
 },
 "nbformat": 4,
 "nbformat_minor": 0
}